{
  "nbformat": 4,
  "nbformat_minor": 0,
  "metadata": {
    "colab": {
      "provenance": [],
      "authorship_tag": "ABX9TyPmud9y7UcZ30hpvZ+aIe1s",
      "include_colab_link": true
    },
    "kernelspec": {
      "name": "python3",
      "display_name": "Python 3"
    },
    "language_info": {
      "name": "python"
    }
  },
  "cells": [
    {
      "cell_type": "markdown",
      "metadata": {
        "id": "view-in-github",
        "colab_type": "text"
      },
      "source": [
        "<a href=\"https://colab.research.google.com/github/arpan-physics-ju/arpanpurkait-python-ju/blob/main/ISI_IDEAS.ipynb\" target=\"_parent\"><img src=\"https://colab.research.google.com/assets/colab-badge.svg\" alt=\"Open In Colab\"/></a>"
      ]
    },
    {
      "cell_type": "code",
      "execution_count": null,
      "metadata": {
        "colab": {
          "base_uri": "https://localhost:8080/"
        },
        "id": "kH6yvTVSIeov",
        "outputId": "d50a2751-5e7f-498e-810c-fc85edc4a376"
      },
      "outputs": [
        {
          "output_type": "stream",
          "name": "stdout",
          "text": [
            "Hello World ❌ Hello Jadavpur! ✔\n"
          ]
        }
      ],
      "source": [
        "# First Python Code\n",
        "print(\"Hello World \\u274C Hello Jadavpur! \\u2714\")"
      ]
    },
    {
      "cell_type": "code",
      "source": [
        "# Comment\n",
        "\n",
        "# This is single line comment\n",
        "\n",
        "# This is multiple line comment\n",
        "# By using ctrl + Backslash\n",
        "\n",
        "''' This is multiple line comment\n",
        " By using 3 invited comma '''"
      ],
      "metadata": {
        "colab": {
          "base_uri": "https://localhost:8080/",
          "height": 36
        },
        "id": "OesyNR3RLDrl",
        "outputId": "db13d6ca-b1b3-4d16-f832-f153bae4d6da"
      },
      "execution_count": null,
      "outputs": [
        {
          "output_type": "execute_result",
          "data": {
            "text/plain": [
              "' This is multiple line comment \\n By using 3 invited comma '"
            ],
            "application/vnd.google.colaboratory.intrinsic+json": {
              "type": "string"
            }
          },
          "metadata": {},
          "execution_count": 6
        }
      ]
    },
    {
      "cell_type": "code",
      "source": [
        "arpan = 121\n",
        "\n",
        "print(arpan)"
      ],
      "metadata": {
        "colab": {
          "base_uri": "https://localhost:8080/"
        },
        "id": "OWpUJxwjNkf3",
        "outputId": "1031674f-5ff2-4d08-ab1f-a3697db773db"
      },
      "execution_count": null,
      "outputs": [
        {
          "output_type": "stream",
          "name": "stdout",
          "text": [
            "121\n"
          ]
        }
      ]
    },
    {
      "cell_type": "code",
      "source": [
        "# Integer Variable\n",
        "i=5\n",
        "print(i,type(i)) # type() is used to determine the datatype of a variable\n",
        "\n",
        "# Float Variable\n",
        "pi = 3.14\n",
        "print(pi,type(pi))\n",
        "\n",
        "# String Variable\n",
        "name = 'Arpan'\n",
        "roll = 'oo2320701045'\n",
        "print(name,type(name))\n",
        "print(roll,type(roll))\n",
        "\n",
        "'''\n",
        "A -> 0\n",
        "r -> 1\n",
        "p -> 2\n",
        "a -> 3\n",
        "n -> 4\n",
        "'''\n",
        "# Boolean Variable\n",
        "IamStudent = True\n",
        "print(IamStudent,type(IamStudent))"
      ],
      "metadata": {
        "colab": {
          "base_uri": "https://localhost:8080/"
        },
        "id": "9MKoj3CaN8vF",
        "outputId": "4bd23b3c-e75f-4ed5-a7fd-554ce1fe2bf8"
      },
      "execution_count": null,
      "outputs": [
        {
          "output_type": "stream",
          "name": "stdout",
          "text": [
            "5 <class 'int'>\n",
            "3.14 <class 'float'>\n",
            "Arpan <class 'str'>\n",
            "oo2320701045 <class 'str'>\n",
            "True <class 'bool'>\n"
          ]
        }
      ]
    },
    {
      "cell_type": "code",
      "source": [
        "# Type Conversion\n",
        "\n",
        "# Implicit Type Conversion (We don't give force)\n",
        "i = 3\n",
        "pi = 3.14\n",
        "c = i - pi\n",
        "print(c,type(c))\n",
        "\n",
        "# Explicit Type Conversion (We forced to convert)\n",
        "pi = int(pi)\n",
        "print(pi,type(pi))\n",
        "\n",
        "IamStudent = True\n",
        "print(IamStudent,type(IamStudent))\n",
        "IamStudent = int(IamStudent)\n",
        "print(IamStudent,type(IamStudent))"
      ],
      "metadata": {
        "colab": {
          "base_uri": "https://localhost:8080/"
        },
        "id": "NL9FjNI_Oh_G",
        "outputId": "dcb7db47-73d8-43e6-e465-33c0abf3ab84"
      },
      "execution_count": null,
      "outputs": [
        {
          "output_type": "stream",
          "name": "stdout",
          "text": [
            "-0.14000000000000012 <class 'float'>\n",
            "3 <class 'int'>\n",
            "True <class 'bool'>\n",
            "1 <class 'int'>\n"
          ]
        }
      ]
    },
    {
      "cell_type": "code",
      "source": [
        "# Indentation\n",
        "\n",
        "if True:\n",
        "  print(\"Indentation is Important\")\n",
        "  print(\"It is not just for better understanding in Python\")\n",
        "  print(\"If we want to denote some code under some statement\")\n",
        "  print(\"In this case we use intendation\")\n",
        "else:\n",
        "  print(\"Some Statement\")"
      ],
      "metadata": {
        "colab": {
          "base_uri": "https://localhost:8080/"
        },
        "id": "t2_WGROZQwag",
        "outputId": "a9eeacd5-0d7d-4136-b8b1-dcf92347f26f"
      },
      "execution_count": null,
      "outputs": [
        {
          "output_type": "stream",
          "name": "stdout",
          "text": [
            "Indentation is Important\n",
            "It is not just for better understanding in Python\n",
            "If we want to denote some code under some statement\n",
            "In this case we use intendation\n"
          ]
        }
      ]
    },
    {
      "cell_type": "code",
      "source": [
        "# Addition, Substraction, Multiplication, Division\n",
        "\n",
        "a = 20\n",
        "b = 5\n",
        "c = 0\n",
        "\n",
        "print(\"Addition\",a+b)\n",
        "print(\"Substraction\",a-b)\n",
        "print(\"Multiplication\",a*b)\n",
        "print(\"Division\",a/b)   # Implicit type conversion"
      ],
      "metadata": {
        "colab": {
          "base_uri": "https://localhost:8080/"
        },
        "id": "rNLBqMEFVIkO",
        "outputId": "d5b513c2-d545-4da6-d13d-56060d3256d5"
      },
      "execution_count": null,
      "outputs": [
        {
          "output_type": "stream",
          "name": "stdout",
          "text": [
            "Addition 25\n",
            "Substraction 15\n",
            "Multiplication 100\n",
            "Division 4.0\n"
          ]
        }
      ]
    },
    {
      "cell_type": "code",
      "source": [
        "print(a/c) # ZeroDivisionError: division by zero"
      ],
      "metadata": {
        "colab": {
          "base_uri": "https://localhost:8080/",
          "height": 145
        },
        "id": "8pWxqIhMWS8a",
        "outputId": "3531f98c-abe8-4506-dfc9-66baa145c49c"
      },
      "execution_count": null,
      "outputs": [
        {
          "output_type": "error",
          "ename": "ZeroDivisionError",
          "evalue": "division by zero",
          "traceback": [
            "\u001b[0;31m---------------------------------------------------------------------------\u001b[0m",
            "\u001b[0;31mZeroDivisionError\u001b[0m                         Traceback (most recent call last)",
            "\u001b[0;32m<ipython-input-27-cbcf4a49d628>\u001b[0m in \u001b[0;36m<cell line: 0>\u001b[0;34m()\u001b[0m\n\u001b[0;32m----> 1\u001b[0;31m \u001b[0mprint\u001b[0m\u001b[0;34m(\u001b[0m\u001b[0ma\u001b[0m\u001b[0;34m/\u001b[0m\u001b[0mc\u001b[0m\u001b[0;34m)\u001b[0m \u001b[0;31m# ZeroDivisionError: division by zero\u001b[0m\u001b[0;34m\u001b[0m\u001b[0;34m\u001b[0m\u001b[0m\n\u001b[0m",
            "\u001b[0;31mZeroDivisionError\u001b[0m: division by zero"
          ]
        }
      ]
    },
    {
      "cell_type": "code",
      "source": [
        "# ZeroDivisionError\n",
        "# try-except block\n",
        "\n",
        "try:\n",
        "  print(a/c)\n",
        "except ZeroDivisionError:\n",
        "  print(\"Try to reach infinity...\")"
      ],
      "metadata": {
        "colab": {
          "base_uri": "https://localhost:8080/"
        },
        "id": "2Aaz90vEW1Hr",
        "outputId": "cdf0d592-bb09-4ffd-ff11-41322cabf448"
      },
      "execution_count": null,
      "outputs": [
        {
          "output_type": "stream",
          "name": "stdout",
          "text": [
            "Try to reach infinity...\n"
          ]
        }
      ]
    },
    {
      "cell_type": "code",
      "source": [
        "# String Operation\n",
        "first_name = \"Issac\"\n",
        "last_name = \"Newton\"\n",
        "\n",
        "# Concatination: adding two or more string into a single string\n",
        "full_name = first_name + \" \" + last_name\n",
        "print(\"Full name is \",full_name)\n",
        "print(\"Full name is\",full_name * 5) # Repeating string\n",
        "print((\"Full name is \" + full_name + \"\\n\") * 5) # Repeating string\n",
        "print(\"Length of full name is\", len(full_name)) # Length of string\n",
        "\n",
        "# Substring\n",
        "print(\"Substring example 1:\", full_name[:5])\n",
        "print(\"Substring example 2:\", full_name[0:5])\n",
        "print(\"Substring example 3:\", full_name[0:4])\n",
        "print(\"Substring example 4:\", full_name[2:5])\n",
        "print(\"Substring example 5:\", full_name[2:])\n",
        "print(\"Substring example 6:\", full_name[:])\n",
        "print(\"Substring example 7:\", full_name[6])\n",
        "\n",
        "# Upper case, Lower case and title case\n",
        "upper_case = full_name.upper()\n",
        "lower_case = full_name.lower()\n",
        "print(\"Upper case example:\", upper_case)\n",
        "print(\"Lower case example:\", lower_case)\n",
        "title_case = lower_case.title()\n",
        "print(\"Title case example:\", title_case)\n",
        "\n",
        "# Split\n",
        "split_name = full_name.split()\n",
        "print(\"Split string:\", split_name)  # List\n",
        "print(type(split_name))"
      ],
      "metadata": {
        "colab": {
          "base_uri": "https://localhost:8080/"
        },
        "id": "RQ65puNVXSkC",
        "outputId": "45aff6ca-dd6e-4bc3-e5bb-6dc8ea0ef06b"
      },
      "execution_count": null,
      "outputs": [
        {
          "output_type": "stream",
          "name": "stdout",
          "text": [
            "Full name is  Issac Newton\n",
            "Full name is Issac NewtonIssac NewtonIssac NewtonIssac NewtonIssac Newton\n",
            "Full name is Issac Newton\n",
            "Full name is Issac Newton\n",
            "Full name is Issac Newton\n",
            "Full name is Issac Newton\n",
            "Full name is Issac Newton\n",
            "\n",
            "Length of full name is 12\n",
            "Substring example 1: Issac\n",
            "Substring example 2: Issac\n",
            "Substring example 3: Issa\n",
            "Substring example 4: sac\n",
            "Substring example 5: sac Newton\n",
            "Substring example 6: Issac Newton\n",
            "Substring example 7: N\n",
            "Upper case example: ISSAC NEWTON\n",
            "Lower case example: issac newton\n",
            "Title case example: Issac Newton\n",
            "Split string: ['Issac', 'Newton']\n",
            "<class 'list'>\n"
          ]
        }
      ]
    },
    {
      "cell_type": "code",
      "source": [
        "# Conditional Statement\n",
        "'''\n",
        "if condition:\n",
        "  statement-1\n",
        "elseif condition:\n",
        "  statement-2\n",
        "else:\n",
        "  statement-3\n",
        "'''\n",
        "\n",
        "physics = 97\n",
        "math = 98\n",
        "chemistry = 87\n",
        "\n",
        "if (physics >= 90 and math >= 90 and chemistry >= 90):\n",
        "  print(\"Grade A\")\n",
        "elif (physics >= 80 and math >= 80 and chemistry >= 80):\n",
        "  print(\"Grade B\")\n",
        "elif (physics >= 70 and math >= 70 and chemistry >= 70):\n",
        "  print(\"Grade C\")"
      ],
      "metadata": {
        "id": "E9GrHDvFYmKo",
        "colab": {
          "base_uri": "https://localhost:8080/"
        },
        "outputId": "7b1a1842-e4db-4eea-bdbf-2bdda3afc42a"
      },
      "execution_count": 56,
      "outputs": [
        {
          "output_type": "stream",
          "name": "stdout",
          "text": [
            "Grade B\n"
          ]
        }
      ]
    },
    {
      "cell_type": "code",
      "source": [],
      "metadata": {
        "id": "grf6IlQtknN3"
      },
      "execution_count": null,
      "outputs": []
    }
  ]
}